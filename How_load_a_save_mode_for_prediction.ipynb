{
  "nbformat": 4,
  "nbformat_minor": 0,
  "metadata": {
    "colab": {
      "provenance": [],
      "authorship_tag": "ABX9TyOrIoPiW/Da+AIY9wme4hWl"
    },
    "kernelspec": {
      "name": "python3",
      "display_name": "Python 3"
    },
    "language_info": {
      "name": "python"
    },
    "accelerator": "GPU",
    "gpuClass": "standard"
  },
  "cells": [
    {
      "cell_type": "code",
      "execution_count": null,
      "metadata": {
        "id": "plh5fpi1IICQ"
      },
      "outputs": [],
      "source": [
        "import numpy as np\n",
        "#import scipy.misc\n",
        "\n",
        "from skimage.transform import resize\n",
        "from imageio import imread\n",
        "\n",
        "from tensorflow.keras.models import model_from_json\n",
        "from tensorflow.keras.optimizers import SGD\n",
        "\n",
        "model_architecture = \"model.json\"      #This was how the model was stored\n",
        "model_weights = \"model.h5\"              # This how the model weight was stored\n",
        "model = model_from_json(open(model_architecture).read()) #We open and read the model\n",
        "model.load_weights(model_weights)       # Load the weight into the model \n",
        "\n",
        "img_names = [\"cat-standing.jpg\", \"dog.jpg\"]\n",
        "#imgs = [np.transpose(resize(imread(img_name), (32, 32)), (2, 0, 1)).astype(\"float32\") \n",
        "#    for img_name in img_names] ***** The second pattern is read able \n",
        "\n",
        "\n",
        "# For every image name, read the image and then resize the image \n",
        "imgs = [resize(imread(img_name), (32, 32)).astype(\"float32\") for img_name in img_names]\n",
        "imgs = np.array(imgs) / 255         # the normalize the image by dividing it by 255\n",
        "print(\"imgs.shape:\", imgs.shape)\n",
        "\n",
        "optim = SGD()     # This is our optimizer \n",
        "\n",
        "# We compile the model\n",
        "model.compile(loss=\"categorical_crossentropy\", optimizer=optim, metrics=[\"accuracy\"])\n",
        "\n",
        "\n",
        "# We then predict the model with our image\n",
        "predictions = model.predict_classes(imgs)\n",
        "print(\"predictions:\", predictions)"
      ]
    }
  ]
}