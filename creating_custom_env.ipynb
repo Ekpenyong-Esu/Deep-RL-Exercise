{
  "nbformat": 4,
  "nbformat_minor": 0,
  "metadata": {
    "colab": {
      "provenance": [],
      "authorship_tag": "ABX9TyPH5Kj46w/AK8jechPJLXsf",
      "include_colab_link": true
    },
    "kernelspec": {
      "name": "python3",
      "display_name": "Python 3"
    },
    "language_info": {
      "name": "python"
    },
    "accelerator": "GPU",
    "gpuClass": "standard"
  },
  "cells": [
    {
      "cell_type": "markdown",
      "metadata": {
        "id": "view-in-github",
        "colab_type": "text"
      },
      "source": [
        "<a href=\"https://colab.research.google.com/github/Ekpenyong-Esu/Deep-RL-Exercise/blob/main/creating_custom_env.ipynb\" target=\"_parent\"><img src=\"https://colab.research.google.com/assets/colab-badge.svg\" alt=\"Open In Colab\"/></a>"
      ]
    },
    {
      "cell_type": "code",
      "source": [
        "import gym\n",
        "from typing import TypeVar\n",
        "import random\n",
        "\n",
        "Action = TypeVar('Action')\n",
        "\n",
        "\n",
        "class RandomActionWrapper(gym.ActionWrapper):       # Inherit the gym environment \n",
        "    def __init__(self, env, epsilon=0.15):             # create a constructor that will take in the environment and the ten percent data that will be randomly sample\n",
        "        super(RandomActionWrapper, self).__init__(env)  # call the constructor of the parent class \n",
        "        self.epsilon = epsilon\n",
        "\n",
        "    def action(self, action: Action) -> Action:\n",
        "        if random.random() < self.epsilon:         # If random.random is less than 0.1 the return sample of the action space of the environment.\n",
        "            print(\"Random!\")                      \n",
        "            return self.env.action_space.sample()   # Action is discrete either 0 or 1\n",
        "        return action                               # Else return Action without sampling \n",
        "\n",
        "\n",
        "if __name__ == \"__main__\":\n",
        "    env = RandomActionWrapper(gym.make(\"CartPole-v1\")) # create an instance of the created environment \n",
        "    \"\"\"\n",
        "    The CartPole have have Two discrete action.\n",
        "\n",
        "    This the Link to the Environment:  https://www.gymlibrary.dev/environments/classic_control/cart_pole/\n",
        "    \"\"\"\n",
        "\n",
        "    obs = env.reset()             # reset the environment and discard the first observation taken\n",
        "    total_reward = 0.0            # initialise the reward\n",
        "    total_step = 0                # initialize the total steps\n",
        "\n",
        "    while True:\n",
        "        obs, reward, done, _ = env.step(0)   # we start with step 0\n",
        "        total_reward += reward\n",
        "        total_step += 1\n",
        "        if done:\n",
        "            break\n",
        "\n",
        "    print(\"Reward got: %.2f\\nTotal step taken: %d\" % (total_reward, total_step))\n"
      ],
      "metadata": {
        "colab": {
          "base_uri": "https://localhost:8080/"
        },
        "id": "Cr0d1R7EnwMn",
        "outputId": "cb5f7b09-f150-4159-e1c5-2620bf9ae0ea"
      },
      "execution_count": 40,
      "outputs": [
        {
          "output_type": "stream",
          "name": "stdout",
          "text": [
            "Random!\n",
            "Reward got: 10.00\n",
            "Total step taken: 10\n"
          ]
        }
      ]
    },
    {
      "cell_type": "markdown",
      "source": [
        "# New Section"
      ],
      "metadata": {
        "id": "Rp1AcfyYzVZm"
      }
    },
    {
      "cell_type": "markdown",
      "source": [],
      "metadata": {
        "id": "rle_YQIWyxfi"
      }
    },
    {
      "cell_type": "markdown",
      "source": [
        "# New Section"
      ],
      "metadata": {
        "id": "nKmTaiQIyl7_"
      }
    }
  ]
}