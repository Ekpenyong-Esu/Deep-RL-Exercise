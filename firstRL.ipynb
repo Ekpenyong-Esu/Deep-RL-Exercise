{
  "nbformat": 4,
  "nbformat_minor": 0,
  "metadata": {
    "colab": {
      "provenance": [],
      "authorship_tag": "ABX9TyMBENbPpCXCSGDUcH6F2UVM",
      "include_colab_link": true
    },
    "kernelspec": {
      "name": "python3",
      "display_name": "Python 3"
    },
    "language_info": {
      "name": "python"
    }
  },
  "cells": [
    {
      "cell_type": "markdown",
      "metadata": {
        "id": "view-in-github",
        "colab_type": "text"
      },
      "source": [
        "<a href=\"https://colab.research.google.com/github/mahonri-stack/mahonri-stack-RL-Exercise/blob/main/firstRL.ipynb\" target=\"_parent\"><img src=\"https://colab.research.google.com/assets/colab-badge.svg\" alt=\"Open In Colab\"/></a>"
      ]
    },
    {
      "cell_type": "code",
      "source": [
        "import gym\n",
        "\n",
        "\n",
        "\n",
        "\n",
        "if __name__ == \"__main__\":\n",
        "  env = gym.make(\"CartPole-v1\")  # creating and environment\n",
        "  total_reward = 0.0               #reward is float\n",
        "  total_steps = 0                   # total_steps is int\n",
        "  obs = env.reset()                 # we use this to obtain the first observation\n",
        "                                      # which we dont use since our agent is stochastic\n",
        "  while True:\n",
        "    action = env.action_space.sample()    # we use it to sample the random action\n",
        "    obs, reward, done, _  = env.step(action) #we ask the environment to execute a random action goten from sample and  \n",
        "                                              #return the next obs, reward, and a done flag\n",
        "    total_reward += reward\n",
        "    total_steps += 1\n",
        "    if done:\n",
        "      break\n",
        "\n",
        "\n",
        "  print(\"Episode done in %d steps, total reward %.2f\" % (total_steps, total_reward))"
      ],
      "metadata": {
        "colab": {
          "base_uri": "https://localhost:8080/"
        },
        "id": "imlY0rToaqLI",
        "outputId": "21e6d2bd-66d5-4472-bd6b-13b9b7516331"
      },
      "execution_count": null,
      "outputs": [
        {
          "output_type": "stream",
          "name": "stdout",
          "text": [
            "Episode done in 9 steps, total reward 9.00\n"
          ]
        }
      ]
    },
    {
      "cell_type": "code",
      "source": [],
      "metadata": {
        "id": "YVsa1AQ0gCON"
      },
      "execution_count": null,
      "outputs": []
    }
  ]
}