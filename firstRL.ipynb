{
  "cells": [
    {
      "cell_type": "markdown",
      "metadata": {
        "colab_type": "text",
        "id": "view-in-github"
      },
      "source": [
        "<a href=\"https://colab.research.google.com/github/mahonri-stack/mahonri-stack-RL-Exercise/blob/main/firstRL.ipynb\" target=\"_parent\"><img src=\"https://colab.research.google.com/assets/colab-badge.svg\" alt=\"Open In Colab\"/></a>"
      ]
    },
    {
      "cell_type": "code",
      "execution_count": null,
      "metadata": {
        "colab": {
          "base_uri": "https://localhost:8080/"
        },
        "id": "imlY0rToaqLI",
        "outputId": "21e6d2bd-66d5-4472-bd6b-13b9b7516331"
      },
      "outputs": [
        {
          "name": "stdout",
          "output_type": "stream",
          "text": [
            "Episode done in 9 steps, total reward 9.00\n"
          ]
        }
      ],
      "source": [
        "import gym\n",
        "\n",
        "\n",
        "\n",
        "\n",
        "if __name__ == \"__main__\":\n",
        "  env = gym.make(\"CartPole-v1\")  # creating and environment\n",
        "  total_reward = 0.0               #reward is float\n",
        "  total_steps = 0                   # total_steps is int\n",
        "  obs = env.reset()                 # we use this to obtain the first observation\n",
        "                                      # which we dont use since our agent is stochastic\n",
        "  while True:\n",
        "    action = env.action_space.sample()    # we use it to sample the random action\n",
        "    obs, reward, done, _  = env.step(action) #we ask the environment to execute a random action goten from sample and  \n",
        "                                              #return the next obs, reward, and a done flag\n",
        "    total_reward += reward\n",
        "    total_steps += 1\n",
        "    if done:\n",
        "      break\n",
        "\n",
        "\n",
        "  print(\"Episode done in %d steps, total reward %.2f\" % (total_steps, total_reward))"
      ]
    },
    {
      "cell_type": "code",
      "execution_count": null,
      "metadata": {
        "id": "YVsa1AQ0gCON"
      },
      "outputs": [],
      "source": []
    }
  ],
  "metadata": {
    "colab": {
      "authorship_tag": "ABX9TyMBENbPpCXCSGDUcH6F2UVM",
      "include_colab_link": true,
      "provenance": []
    },
    "kernelspec": {
      "display_name": "Python 3",
      "language": "python",
      "name": "python3"
    },
    "language_info": {
      "name": "python",
      "version": "3.10.6 (main, Nov 14 2022, 16:10:14) [GCC 11.3.0]"
    },
    "vscode": {
      "interpreter": {
        "hash": "916dbcbb3f70747c44a77c7bcd40155683ae19c65e1c03b4aa3499c5328201f1"
      }
    }
  },
  "nbformat": 4,
  "nbformat_minor": 0
}
