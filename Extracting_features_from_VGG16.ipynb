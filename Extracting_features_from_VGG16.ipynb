{
  "nbformat": 4,
  "nbformat_minor": 0,
  "metadata": {
    "colab": {
      "provenance": [],
      "private_outputs": true,
      "authorship_tag": "ABX9TyM1fu8zCGas7zXKzfsou8yO"
    },
    "kernelspec": {
      "name": "python3",
      "display_name": "Python 3"
    },
    "language_info": {
      "name": "python"
    },
    "gpuClass": "standard",
    "accelerator": "GPU"
  },
  "cells": [
    {
      "cell_type": "markdown",
      "source": [
        "# New Section"
      ],
      "metadata": {
        "id": "nKmTaiQIyl7_"
      }
    },
    {
      "cell_type": "code",
      "source": [
        "import tensorflow as tf\n",
        "from tensorflow.keras.applications.vgg16 import VGG16 \n",
        "from tensorflow.keras import models\n",
        "from tensorflow.keras.preprocessing import image\n",
        "from tensorflow.keras.applications.vgg16 import preprocess_input\n",
        "import numpy as np\n",
        "import cv2\n",
        "\n",
        "# prebuild model with pre-trained weights on imagenet\n",
        "base_model = VGG16(weights='imagenet', include_top=True)\n",
        "print (base_model)\n",
        "for i, layer in enumerate(base_model.layers):\n",
        "\tprint (i, layer.name, layer.output_shape)\n",
        "\n",
        "# extract features from block4_pool block\n",
        "model = models.Model(inputs=base_model.input, \n",
        "\toutputs=base_model.get_layer('block4_pool').output)\n",
        "\n",
        "img_path = 'cat.jpg'\n",
        "img = image.load_img(img_path, target_size=(224, 224))\n",
        "x = image.img_to_array(img)\n",
        "x = np.expand_dims(x, axis=0)\n",
        "x = preprocess_input(x)\n",
        "\n",
        "# get the features from this block\n",
        "features = model.predict(x)\n",
        "print(features)\n",
        "\n"
      ],
      "metadata": {
        "id": "zdWKG8htqjmu"
      },
      "execution_count": null,
      "outputs": []
    }
  ]
}