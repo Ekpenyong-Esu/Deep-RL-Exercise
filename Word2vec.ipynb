{
  "nbformat": 4,
  "nbformat_minor": 0,
  "metadata": {
    "colab": {
      "provenance": [],
      "private_outputs": true,
      "authorship_tag": "ABX9TyOfTv4pXA4cBI+HpaZ9Wo3W",
      "include_colab_link": true
    },
    "kernelspec": {
      "name": "python3",
      "display_name": "Python 3"
    },
    "language_info": {
      "name": "python"
    },
    "gpuClass": "standard",
    "accelerator": "GPU"
  },
  "cells": [
    {
      "cell_type": "markdown",
      "metadata": {
        "id": "view-in-github",
        "colab_type": "text"
      },
      "source": [
        "<a href=\"https://colab.research.google.com/github/Ekpenyong-Esu/Deep-RL-Exercise/blob/main/Word2vec.ipynb\" target=\"_parent\"><img src=\"https://colab.research.google.com/assets/colab-badge.svg\" alt=\"Open In Colab\"/></a>"
      ]
    },
    {
      "cell_type": "markdown",
      "source": [
        "# New Section"
      ],
      "metadata": {
        "id": "nKmTaiQIyl7_"
      }
    },
    {
      "cell_type": "code",
      "source": [
        "!mkdir data"
      ],
      "metadata": {
        "id": "6N8MrKZPJ0dK"
      },
      "execution_count": null,
      "outputs": []
    },
    {
      "cell_type": "code",
      "source": [
        "import gensim.downloader as api\n",
        "from gensim.models import Word2Vec\n",
        "\n",
        "info = api.info(\"text8\")\n",
        "assert(len(info) > 0)\n",
        "\n",
        "dataset = api.load(\"text8\")\n",
        "model = Word2Vec(dataset)\n",
        "\n",
        "model.save(\"data/text8-word2vec.bin\")\n"
      ],
      "metadata": {
        "id": "zdWKG8htqjmu"
      },
      "execution_count": null,
      "outputs": []
    },
    {
      "cell_type": "code",
      "source": [
        "from gensim.models import KeyedVectors\n",
        "\n",
        "def print_most_similar(word_conf_pairs, k):\n",
        "    for i, (word, conf) in enumerate(word_conf_pairs):\n",
        "        print(\"{:.3f} {:s}\".format(conf, word))\n",
        "        if i >= k-1:\n",
        "            break\n",
        "    if k < len(word_conf_pairs):\n",
        "        print(\"...\")\n"
      ],
      "metadata": {
        "id": "hxpNRGnlTgsi"
      },
      "execution_count": null,
      "outputs": []
    },
    {
      "cell_type": "code",
      "source": [
        "from gensim.models import KeyedVectors\n",
        "\n",
        "\n",
        "\n",
        "model = KeyedVectors.load(\"data/text8-word2vec.bin\")\n",
        "word_vectors = model.wv\n",
        "\n",
        "# get words in the vocabulary\n",
        "words = word_vectors.vocab.keys()\n",
        "print([x for i, x in enumerate(words) if i < 10])\n",
        "assert(\"king\" in words)"
      ],
      "metadata": {
        "id": "cBsJURchTzny"
      },
      "execution_count": null,
      "outputs": []
    },
    {
      "cell_type": "code",
      "source": [
        "print(\"# words similar to king\")\n",
        "print_most_similar(word_vectors.most_similar(\"king\"), 5)\n"
      ],
      "metadata": {
        "id": "J4YRx9dPUqjL"
      },
      "execution_count": null,
      "outputs": []
    },
    {
      "cell_type": "code",
      "source": [
        "print(\"# vector arithmetic with words (cosine similarity)\")\n",
        "print(\"# france + berlin - paris = ?\")\n",
        "print_most_similar(word_vectors.most_similar(\n",
        "    positive=[\"france\", \"berlin\"], negative=[\"paris\"]), 1\n",
        ")"
      ],
      "metadata": {
        "id": "KzP5vdU4Uz9O"
      },
      "execution_count": null,
      "outputs": []
    },
    {
      "cell_type": "code",
      "source": [
        "print(\"# vector arithmetic with words (Levy and Goldberg)\")\n",
        "print(\"# france + berlin - paris = ?\")\n",
        "print_most_similar(word_vectors.most_similar_cosmul(\n",
        "    positive=[\"france\", \"berlin\"], negative=[\"paris\"]), 1\n",
        ")\n"
      ],
      "metadata": {
        "id": "c19cxXuXU-cr"
      },
      "execution_count": null,
      "outputs": []
    },
    {
      "cell_type": "code",
      "source": [
        "print(\"# find odd one out\")\n",
        "print(\"# [hindus, parsis, singapore, christians]\")\n",
        "print(word_vectors.doesnt_match([\"hindus\", \"parsis\", \n",
        "    \"singapore\", \"christians\"]))"
      ],
      "metadata": {
        "id": "IBqFzXeZVGwU"
      },
      "execution_count": null,
      "outputs": []
    },
    {
      "cell_type": "code",
      "source": [
        "print(\"# similar by word\")\n",
        "print(print_most_similar(\n",
        "    word_vectors.similar_by_word(\"singapore\"), 5)\n",
        ")"
      ],
      "metadata": {
        "id": "poycR6GoVQeg"
      },
      "execution_count": null,
      "outputs": []
    },
    {
      "cell_type": "code",
      "source": [
        "print(\"# distance between vectors\")\n",
        "print(\"distance(singapore, malaysia) = {:.3f}\".format(\n",
        "    word_vectors.distance(\"singapore\", \"malaysia\")\n",
        "))"
      ],
      "metadata": {
        "id": "EohpzlsVVU9h"
      },
      "execution_count": null,
      "outputs": []
    },
    {
      "cell_type": "code",
      "source": [
        "vec_song = word_vectors[\"song\"]\n",
        "print(\"\\n# output vector obtained directly, shape:\", vec_song.shape)\n"
      ],
      "metadata": {
        "id": "RxazUsH4VhDa"
      },
      "execution_count": null,
      "outputs": []
    },
    {
      "cell_type": "code",
      "source": [
        "vec_song_2 = word_vectors.word_vec(\"song\", use_norm=True)\n",
        "print(\"# output vector obtained using word_vec, shape:\", vec_song_2.shape)\n"
      ],
      "metadata": {
        "id": "prpZPSjhVp8h"
      },
      "execution_count": null,
      "outputs": []
    }
  ]
}